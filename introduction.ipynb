{
 "cells": [
  {
   "cell_type": "markdown",
   "id": "930bb8dd-7d5c-4334-84fd-8372c853e901",
   "metadata": {},
   "source": [
    "## I. Getting Started\n",
    "\n",
    "The SOLUTION command word causes the chemical species listed to be dissolved in 1 kg of water. Note command words are always in capitals. The first input file will illustrate the command (input file 1). Note you can select and copy the text below from the manual and paste it directly into the area provided under the PHREEQC Input tab or type it in. All the input files will be refereed to in italics and are listed in the appendix at the end of the manual. There is also a menu of command words on the right panel in the PHREEQC window. You can double click on the command to automatically place it in the input window. An important note: PHREEQC will save/write any files created to the default directory (/srv/data/phreeqc-3.7.3-15968). This is an important feature that allows you to control your workflow."
   ]
  },
  {
   "cell_type": "code",
   "execution_count": null,
   "id": "c8abf7af-3617-4dda-9734-8db1437a489d",
   "metadata": {},
   "outputs": [],
   "source": [
    "import subprocess\n",
    "\n",
    "# Step 1: Create the PHREEQC input file\n",
    "input_file_content = \"\"\"\n",
    "SOLUTION 1 Mt. Edna Solciechiata\n",
    "   units      mg/l\n",
    "   pH         6.90\n",
    "   pe         -0.2\n",
    "   density    1.00\n",
    "   temp       17.2\n",
    "   Al         0.01\n",
    "   C(4)       1180 as HCO3\n",
    "   Ba         0.0296\n",
    "   Ca         28.1\n",
    "   Cd         0.00026\n",
    "   Cl         238 charge\n",
    "   Cu         0.0018\n",
    "   Fe         0.150\n",
    "   K          30.1\n",
    "   Li         0.180\n",
    "   Mg         214\n",
    "   Mn         0.0277\n",
    "   Na         250\n",
    "   Pb         0.017\n",
    "   S(6)       128\n",
    "   Si         79.4 as SiO2\n",
    "   Sr         0.673\n",
    "   Zn         0.0604\n",
    "END\n",
    "\"\"\"\n",
    "\n",
    "# Save the input file\n",
    "input_file_name = \"phreeqc_input_file.pqi\"\n",
    "with open(input_file_name, \"w\") as file:\n",
    "    file.write(input_file_content)\n",
    "print(f\"PHREEQC input file '{input_file_name}' created successfully.\")"
   ]
  },
  {
   "cell_type": "code",
   "execution_count": null,
   "id": "a707cfd8-4f19-41b7-8344-a418e7c66320",
   "metadata": {},
   "outputs": [],
   "source": [
    "# Step 2: Run PHREEQC using subprocess\n",
    "output_file_name = \"phreeqc_output.txt\"\n",
    "database_file = \"/srv/data/phreeqc-3.7.3-15968/database/phreeqc.dat\"  # Update the path if necessary\n",
    "phreeqc_executable = \"/srv/data/phreeqc-3.7.3-15968/src/phreeqc\"  # Use \"phreeqc.exe\" on Windows, or the full path to the executable\n"
   ]
  },
  {
   "cell_type": "code",
   "execution_count": null,
   "id": "2678c9fe-e55b-468a-959c-75255ce3ced4",
   "metadata": {},
   "outputs": [],
   "source": [
    "# Run PHREEQC\n",
    "try:\n",
    "    subprocess.run([phreeqc_executable, input_file_name, output_file_name, database_file], check=True)\n",
    "    print(f\"PHREEQC run completed. Output saved in '{output_file_name}'.\")\n",
    "except subprocess.CalledProcessError as e:\n",
    "    print(f\"PHREEQC execution failed: {e}\")"
   ]
  },
  {
   "cell_type": "code",
   "execution_count": null,
   "id": "bc93af64-d45e-4312-8df1-9f49cba1002f",
   "metadata": {},
   "outputs": [],
   "source": [
    "# Display the contents of the output file, ignoring problematic characters\n",
    "try:\n",
    "    with open(output_file_name, \"r\", encoding=\"utf-8\", errors=\"ignore\") as output_file:\n",
    "        output_content = output_file.read()\n",
    "    print(\"PHREEQC Output:\\n\")\n",
    "    print(output_content)\n",
    "except FileNotFoundError:\n",
    "    print(f\"Output file '{output_file_name}' not found.\")"
   ]
  },
  {
   "cell_type": "markdown",
   "id": "8666865b-b0e8-4477-baad-b049a9dc9f15",
   "metadata": {},
   "source": [
    "The output file is printed and the program automatically shifts the window showing that tab. A brief examination of the file shows a great deal of information presented in a complex format.\n",
    "\n",
    "Briefly, the output file shows the input file, then the result with the following major categories:\n",
    "1. Reading input data for simulation 1\n",
    "2. Description of the solution with pH, pe, activity of water, ionic strength, mass of water, total alkalinity, total CO2, temperature, electrical balance, the numbers of iterations the program required to converge on a numerical solution, etc.\n",
    "3. Distribution of species\n",
    "4. Saturation indices.\n",
    "The input values are the analytical results of a water analysis. Analytical results for elements are totals. Speciation calculations partition the total amounts into all the potential forms (e.g. total dissolved Ca into the dissolved species Ca2+, CaOH+ and Ca(OH)2º) depending on the relevant mass action equations in the database. This is the basic information calculated for the 1 kg of water and specified amount of other components at thermodynamic equilibrium. Actual solutions may not be at equilibrium."
   ]
  },
  {
   "cell_type": "markdown",
   "id": "6aea03c5-958f-47c8-a8aa-1289cfec8b23",
   "metadata": {},
   "source": [
    "### Example 2: Speciation in natural waters\n",
    "\n",
    "In this practice we will solve the following geochemical problems:\n",
    "- What is the saturation state of a mineral in the water sample\n",
    "- What is the CO2 partial pressure in equilibrium with this sample\n",
    "\n",
    "The speciation of a water sample mainly calculates the distribution of all species in equilibrium in solution, the saturation indices, and the partial pressure of gases in equilibrium. The template (input file) has the following structure:\n",
    "\n"
   ]
  },
  {
   "cell_type": "code",
   "execution_count": null,
   "id": "37d45923-824b-447e-b68e-0cbab7ef598c",
   "metadata": {},
   "outputs": [],
   "source": [
    "import subprocess\n",
    "\n",
    "# Step 1: Create the PHREEQC input file\n",
    "input_file_content = \"\"\"\n",
    "TITLE Plantilla: Especiar un agua natural.\n",
    "SOLUTION 1\n",
    "temp      25\n",
    "pH        7.5\n",
    "pe        4\n",
    "units     mg/L\n",
    "redox     pe\n",
    "density   1.00\n",
    "Ca        109\n",
    "Mg        24\n",
    "Na        117\n",
    "K         7\n",
    "Alkalinity 183. as HCO3\n",
    "S(6)      238\n",
    "Cl        171\n",
    "Si        48\n",
    "-water    1       # kg\n",
    "END\n",
    "\"\"\"\n",
    "\n",
    "# Save the input file\n",
    "input_file_name = \"phreeqc_example1.pqi\"\n",
    "with open(input_file_name, \"w\") as file:\n",
    "    file.write(input_file_content)\n",
    "print(f\"PHREEQC input file '{input_file_name}' created successfully.\")\n",
    "\n",
    "# Step 2: Run PHREEQC using subprocess\n",
    "output_file_name = \"phreeqc_example1_out.txt\"\n",
    "\n",
    "# Run PHREEQC\n",
    "try:\n",
    "    subprocess.run([phreeqc_executable, input_file_name, output_file_name, database_file], check=True)\n",
    "    print(f\"PHREEQC run completed. Output saved in '{output_file_name}'.\")\n",
    "except subprocess.CalledProcessError as e:\n",
    "    print(f\"PHREEQC execution failed: {e}\")    \n",
    "\n",
    "# Display the contents of the output file, ignoring problematic characters\n",
    "try:\n",
    "    with open(output_file_name, \"r\", encoding=\"utf-8\", errors=\"ignore\") as output_file:\n",
    "        output_content = output_file.read()\n",
    "    print(\"PHREEQC Output:\\n\")\n",
    "    print(output_content)\n",
    "except FileNotFoundError:\n",
    "    print(f\"Output file '{output_file_name}' not found.\")\n",
    "    \n",
    "\n",
    "\n"
   ]
  },
  {
   "cell_type": "markdown",
   "id": "42f903ed-0dfc-42ea-af7d-d95c522fec91",
   "metadata": {},
   "source": [
    "Under the SOLUTION keyword, the physicochemical parameters of the water to be analyzed are defined. This includes the temperature, pH, pe, the working units, how the redox system of the water is defined, density, and the concentration of the species in solution.\n",
    "\n",
    "PHREEQC allows working with a wide range of concentrations. The working concentration units are:\n",
    "\n",
    "mol/L, mmol/L, µmol/L; g/L, mg/L, µg/L; mol/kgs (mol/kg solution), mmol/kgs, µmol/kgs; g/kgs (g/kg solution), mg/kgs, µg/kgs; ppt, ppm, ppb; mol/kgw (mol/kg water), mmol/kgw, µmol/kgw; g/kgw (g/kg water), mg/kgw, µg/kgw.\n",
    "\n",
    "The redox conditions of the water can be defined by the value of pe or by the redox pair that determines the pe of the water. The redox pairs that PHREEQC can work with are:\n",
    "\n",
    "O(-2)/O(0); H(0)/H(1); C(-4)/C(4); S(-2)/S(6); N(-3)/N(0); N(-3)/N(3); N(-3)/N(5); N(0)/N(3); N(0)/N(5); N(3)/N(5); Cu(1)/Cu(2); Fe(2)/Fe(3); Mn(2)/Mn(3).\n",
    "\n",
    "In this template, elements and species can be removed if the water being studied does not contain them, or they can be added if needed. If you need to remove species (e.g., for pure water), you can set the concentration to 0.0 (which will not modify the template) or simply delete them. If more species need to be added, they can be inserted where the other elements are listed. A quick and practical way to find out how to write the species (PHREEQC notation) is to consult the PHREEQC Database sheet in the SOLUTION_MASTER_SPECIES section.\n",
    "\n",
    "The keyword \"water\" indicates that PHREEQC performs calculations based on 1 kg of H2O.\n",
    "\n",
    "The output file consists of the following parts, which highlight the following information:\n",
    "\n",
    "· Reading the database.\n",
    "\n",
    "· Reading the data for simulation 1.\n",
    "\n",
    "· Calculation of the water composition in moles (Solution composition).\n",
    "\n",
    "· Description of the solution. It shows the characteristics of the water and calculates other parameters such as electrical conductivity, density, water activity, ionic strength, electrical balance, percentage of error, etc. The last one is an interesting parameter because it indicates the quality of the chemical analysis of the water. If the error in the charge balance exceeds 5%, the chemical analysis is not correct. This error may be due to a poor water analysis and/or because some elements were not analyzed.\n",
    "\n",
    "· Calculation of the distribution of species in equilibrium. It also calculates the activity coefficient and the activity of each species.\n",
    "\n",
    "· Calculation of the saturation indices of the minerals (Saturation indices, SI) and the partial pressure of the gases in equilibrium with the solution. The partial pressure is expressed in logarithmic form (e.g., for CO2, the log pCO2 is obtained).\n",
    "\n",
    "Generally, we start from a composition expressed in mg/L. The calculation of the species distribution and saturation indices is done with the composition expressed in molality. That is, we need the density value. If we do not have its value, PHREEQC calculates it and uses it to convert the units from mg/L to molality. If the density value is not available, it is preferable not to specify it. More details on the calculation model and the limits of applicability can be found on Dr. Appelo's website.\n",
    "\n",
    "\n",
    "\n",
    "\n",
    "\n",
    "\n"
   ]
  },
  {
   "cell_type": "markdown",
   "id": "be7145b6-ea1d-4c2e-abb2-f69a9519cd4f",
   "metadata": {},
   "source": [
    "### Problem 1\n",
    "\n",
    "Calculate the saturation state of calcite and gypsum in the given samples of [Perrier](./env_geochem/PERRIER-SPARKLING_.pdf), [San Pellegrino](./env_geochem/SAN-PELLEGRINO-SPARKLING.pdf) and [Aqua Panna](./env_geochem/2020_AP_WAR_EN.pdf) that are very popular worldwide. What is the partial pressure of CO2 in equilibrium with the water? If the label does not provide the pH and temperature, assume they are 7 and 25 °C, respectively."
   ]
  },
  {
   "cell_type": "code",
   "execution_count": null,
   "id": "8fee6054-0a89-433c-b1be-651d2fbf4da4",
   "metadata": {},
   "outputs": [],
   "source": []
  }
 ],
 "metadata": {
  "kernelspec": {
   "display_name": "Python 3 (ipykernel)",
   "language": "python",
   "name": "python3"
  },
  "language_info": {
   "codemirror_mode": {
    "name": "ipython",
    "version": 3
   },
   "file_extension": ".py",
   "mimetype": "text/x-python",
   "name": "python",
   "nbconvert_exporter": "python",
   "pygments_lexer": "ipython3",
   "version": "3.10.10"
  }
 },
 "nbformat": 4,
 "nbformat_minor": 5
}
